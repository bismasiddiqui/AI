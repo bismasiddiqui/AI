{
  "nbformat": 4,
  "nbformat_minor": 0,
  "metadata": {
    "colab": {
      "name": "Practise Assignment 003.ipynb",
      "version": "0.3.2",
      "provenance": [],
      "include_colab_link": true
    },
    "language_info": {
      "codemirror_mode": {
        "name": "ipython",
        "version": 3
      },
      "file_extension": ".py",
      "mimetype": "text/x-python",
      "name": "python",
      "nbconvert_exporter": "python",
      "pygments_lexer": "ipython3",
      "version": "3.6.4"
    },
    "kernelspec": {
      "display_name": "Python 3",
      "language": "python",
      "name": "python3"
    }
  },
  "cells": [
    {
      "cell_type": "markdown",
      "metadata": {
        "id": "view-in-github",
        "colab_type": "text"
      },
      "source": [
        "<a href=\"https://colab.research.google.com/github/bismasiddiqui/AI/blob/master/Practise_Assignment_003_bisma_siddiqui.ipynb\" target=\"_parent\"><img src=\"https://colab.research.google.com/assets/colab-badge.svg\" alt=\"Open In Colab\"/></a>"
      ]
    },
    {
      "cell_type": "markdown",
      "metadata": {
        "id": "XlPzZENZQUr-",
        "colab_type": "text"
      },
      "source": [
        "# Q1:"
      ]
    },
    {
      "cell_type": "markdown",
      "metadata": {
        "id": "6NVXb5dXQUsB",
        "colab_type": "text"
      },
      "source": [
        "Think of at least three kinds of your favorite pizza. Store these pizza names in a list, and then use a for loop to print the name of each pizza."
      ]
    },
    {
      "cell_type": "code",
      "metadata": {
        "id": "NV2Sb-8AQUsD",
        "colab_type": "code",
        "colab": {
          "base_uri": "https://localhost:8080/",
          "height": 68
        },
        "outputId": "4345f845-74db-4b71-c740-7ee824852654"
      },
      "source": [
        "FavPizzas = [\"Chicken Tikka\",\"Green Chilli\",\"Arabic Green\"]\n",
        "for pizza in FavPizzas:\n",
        "    print(pizza)"
      ],
      "execution_count": 1,
      "outputs": [
        {
          "output_type": "stream",
          "text": [
            "Chicken Tikka\n",
            "Green Chilli\n",
            "Arabic Green\n"
          ],
          "name": "stdout"
        }
      ]
    },
    {
      "cell_type": "code",
      "metadata": {
        "id": "CrLjPh_DQUsJ",
        "colab_type": "code",
        "colab": {}
      },
      "source": [
        ""
      ],
      "execution_count": 0,
      "outputs": []
    },
    {
      "cell_type": "code",
      "metadata": {
        "id": "UHIzxFFIQUsO",
        "colab_type": "code",
        "colab": {}
      },
      "source": [
        ""
      ],
      "execution_count": 0,
      "outputs": []
    },
    {
      "cell_type": "markdown",
      "metadata": {
        "id": "2LIiitAiQUsT",
        "colab_type": "text"
      },
      "source": [
        "# Q2"
      ]
    },
    {
      "cell_type": "markdown",
      "metadata": {
        "id": "BgsvtK42QUsU",
        "colab_type": "text"
      },
      "source": [
        "Start with your last question , Modify your for loop to print a sentence using the name of the pizza\n",
        "instead of printing just the name of the pizza. For each pizza you should\n",
        "have one line of output containing a simple statement like I like pepperoni\n",
        "pizza."
      ]
    },
    {
      "cell_type": "code",
      "metadata": {
        "id": "lM5Hxf4sQUsV",
        "colab_type": "code",
        "colab": {
          "base_uri": "https://localhost:8080/",
          "height": 68
        },
        "outputId": "28e2deb7-f7cd-4100-e3a1-7ed42958b173"
      },
      "source": [
        "FavPizzas = [\"Chicken Tikka\" , \"Green Chilli\" , \"Arabic Green\"]\n",
        "for pizza in FavPizzas:\n",
        "    print(\"i like\" + pizza + \"FavPizzas.\" )"
      ],
      "execution_count": 2,
      "outputs": [
        {
          "output_type": "stream",
          "text": [
            "i likeChicken TikkaFavPizzas.\n",
            "i likeGreen ChilliFavPizzas.\n",
            "i likeArabic GreenFavPizzas.\n"
          ],
          "name": "stdout"
        }
      ]
    },
    {
      "cell_type": "code",
      "metadata": {
        "id": "XUoWX1E8QUsd",
        "colab_type": "code",
        "colab": {}
      },
      "source": [
        ""
      ],
      "execution_count": 0,
      "outputs": []
    },
    {
      "cell_type": "code",
      "metadata": {
        "id": "umk7IMraQUsh",
        "colab_type": "code",
        "colab": {}
      },
      "source": [
        ""
      ],
      "execution_count": 0,
      "outputs": []
    },
    {
      "cell_type": "markdown",
      "metadata": {
        "id": "kd4XpGrjQUsm",
        "colab_type": "text"
      },
      "source": [
        "# Q3:"
      ]
    },
    {
      "cell_type": "markdown",
      "metadata": {
        "id": "vEScvKsLQUsx",
        "colab_type": "text"
      },
      "source": [
        "Use a for loop to print the numbers from 1 to 20,\n",
        "inclusive."
      ]
    },
    {
      "cell_type": "code",
      "metadata": {
        "id": "IQPkTp5uQUs1",
        "colab_type": "code",
        "colab": {
          "base_uri": "https://localhost:8080/",
          "height": 357
        },
        "outputId": "8cc7102d-77ba-4fb1-ce28-c610dd26cbc1"
      },
      "source": [
        "for Num in range(1, 21):\n",
        "    print(Num)"
      ],
      "execution_count": 3,
      "outputs": [
        {
          "output_type": "stream",
          "text": [
            "1\n",
            "2\n",
            "3\n",
            "4\n",
            "5\n",
            "6\n",
            "7\n",
            "8\n",
            "9\n",
            "10\n",
            "11\n",
            "12\n",
            "13\n",
            "14\n",
            "15\n",
            "16\n",
            "17\n",
            "18\n",
            "19\n",
            "20\n"
          ],
          "name": "stdout"
        }
      ]
    },
    {
      "cell_type": "code",
      "metadata": {
        "id": "w-kXnvCDQUs8",
        "colab_type": "code",
        "colab": {}
      },
      "source": [
        ""
      ],
      "execution_count": 0,
      "outputs": []
    },
    {
      "cell_type": "code",
      "metadata": {
        "id": "thRhIwEfQUtA",
        "colab_type": "code",
        "colab": {}
      },
      "source": [
        ""
      ],
      "execution_count": 0,
      "outputs": []
    },
    {
      "cell_type": "markdown",
      "metadata": {
        "id": "9s954u8DQUtF",
        "colab_type": "text"
      },
      "source": [
        "# Q4:"
      ]
    },
    {
      "cell_type": "markdown",
      "metadata": {
        "id": "k7NZMt6MQUtH",
        "colab_type": "text"
      },
      "source": [
        "Use the third argument of the range() function to make a list\n",
        "of the odd numbers from 1 to 20. Use a for loop to print each number."
      ]
    },
    {
      "cell_type": "code",
      "metadata": {
        "id": "407b0bXXQUtJ",
        "colab_type": "code",
        "colab": {
          "base_uri": "https://localhost:8080/",
          "height": 34
        },
        "outputId": "67b0bcde-4e10-4865-92db-0bd413bc949b"
      },
      "source": [
        "for Num in range(1, 21, 2): #Odd Num\n",
        "    print(Num, end = ' ')"
      ],
      "execution_count": 4,
      "outputs": [
        {
          "output_type": "stream",
          "text": [
            "1 3 5 7 9 11 13 15 17 19 "
          ],
          "name": "stdout"
        }
      ]
    },
    {
      "cell_type": "code",
      "metadata": {
        "id": "c_QY-ypZQUtX",
        "colab_type": "code",
        "colab": {}
      },
      "source": [
        ""
      ],
      "execution_count": 0,
      "outputs": []
    },
    {
      "cell_type": "code",
      "metadata": {
        "id": "5iCuAAVYQUtc",
        "colab_type": "code",
        "colab": {}
      },
      "source": [
        ""
      ],
      "execution_count": 0,
      "outputs": []
    },
    {
      "cell_type": "markdown",
      "metadata": {
        "id": "B7But4pNQUti",
        "colab_type": "text"
      },
      "source": [
        "# Q5:"
      ]
    },
    {
      "cell_type": "markdown",
      "metadata": {
        "id": "q3QT7j3YQUtl",
        "colab_type": "text"
      },
      "source": [
        "Make a list of the multiples of 3 from 3 to 30. Use a for loop to\n",
        "print the numbers in your list."
      ]
    },
    {
      "cell_type": "code",
      "metadata": {
        "id": "85BMwjL9QUtn",
        "colab_type": "code",
        "colab": {
          "base_uri": "https://localhost:8080/",
          "height": 187
        },
        "outputId": "e3079f12-28b0-476b-ab49-d90b015f0d7d"
      },
      "source": [
        "for multiple in range(1, 11):\n",
        "    print(multiple*3)"
      ],
      "execution_count": 5,
      "outputs": [
        {
          "output_type": "stream",
          "text": [
            "3\n",
            "6\n",
            "9\n",
            "12\n",
            "15\n",
            "18\n",
            "21\n",
            "24\n",
            "27\n",
            "30\n"
          ],
          "name": "stdout"
        }
      ]
    },
    {
      "cell_type": "code",
      "metadata": {
        "id": "JkF90Hb_QUtt",
        "colab_type": "code",
        "colab": {}
      },
      "source": [
        ""
      ],
      "execution_count": 0,
      "outputs": []
    },
    {
      "cell_type": "code",
      "metadata": {
        "id": "GlaL04RnQUty",
        "colab_type": "code",
        "colab": {}
      },
      "source": [
        ""
      ],
      "execution_count": 0,
      "outputs": []
    },
    {
      "cell_type": "code",
      "metadata": {
        "id": "N_kBqzWWQUuE",
        "colab_type": "code",
        "colab": {}
      },
      "source": [
        ""
      ],
      "execution_count": 0,
      "outputs": []
    },
    {
      "cell_type": "markdown",
      "metadata": {
        "id": "TWXNyyTgQUuI",
        "colab_type": "text"
      },
      "source": [
        "# Q6:"
      ]
    },
    {
      "cell_type": "markdown",
      "metadata": {
        "id": "FSzjKjQKQUuK",
        "colab_type": "text"
      },
      "source": [
        "A number raised to the third power is called a cube. For example,\n",
        "the cube of 2 is written as 2**3 in Python. Make a list of the first 10 cubes (that\n",
        "is, the cube of each integer from 1 through 10), and use a for loop to print out\n",
        "the value of each cube"
      ]
    },
    {
      "cell_type": "code",
      "metadata": {
        "id": "ahMa7s7XQUuM",
        "colab_type": "code",
        "colab": {
          "base_uri": "https://localhost:8080/",
          "height": 187
        },
        "outputId": "0f8e4e19-b9e4-4c92-ce93-fa9746d64ed4"
      },
      "source": [
        "for value  in range(1, 11):\n",
        "    print(value**3)"
      ],
      "execution_count": 6,
      "outputs": [
        {
          "output_type": "stream",
          "text": [
            "1\n",
            "8\n",
            "27\n",
            "64\n",
            "125\n",
            "216\n",
            "343\n",
            "512\n",
            "729\n",
            "1000\n"
          ],
          "name": "stdout"
        }
      ]
    },
    {
      "cell_type": "code",
      "metadata": {
        "id": "XVcQdBsHQUuR",
        "colab_type": "code",
        "colab": {}
      },
      "source": [
        ""
      ],
      "execution_count": 0,
      "outputs": []
    },
    {
      "cell_type": "code",
      "metadata": {
        "id": "4sOYMB1wQUuX",
        "colab_type": "code",
        "colab": {}
      },
      "source": [
        ""
      ],
      "execution_count": 0,
      "outputs": []
    },
    {
      "cell_type": "code",
      "metadata": {
        "id": "y5nuBsR1QUud",
        "colab_type": "code",
        "colab": {}
      },
      "source": [
        ""
      ],
      "execution_count": 0,
      "outputs": []
    },
    {
      "cell_type": "markdown",
      "metadata": {
        "id": "c4xIrlm_QUuj",
        "colab_type": "text"
      },
      "source": [
        "# Q7:"
      ]
    },
    {
      "cell_type": "markdown",
      "metadata": {
        "id": "cia9N9q7QUuk",
        "colab_type": "text"
      },
      "source": [
        "###### Make a python program that conatains your nine favourite dishes in a list called foods.\n",
        "\n",
        "###### Print the message, The first three items in the list are:. \n",
        "###### Then use a slice to print the first three items from that program’s list.\n",
        "\n",
        "###### Print the message, Three items from the middle of the list are:\n",
        "###### Use a slice to print three items from the middle of the list.\n",
        "\n",
        "###### Print the message, The last three items in the list are:\n",
        "###### Use a slice to print the last three items in the list."
      ]
    },
    {
      "cell_type": "code",
      "metadata": {
        "id": "nVzveeL3QUum",
        "colab_type": "code",
        "colab": {
          "base_uri": "https://localhost:8080/",
          "height": 306
        },
        "outputId": "899eb9a5-bd78-4220-f4d0-896ba585f873"
      },
      "source": [
        "dishes = [\"Chicken Biryani\", \"Plao\", \"Daal Chaawal\", \"Qorma\", \"Chicken Karahi\", \"Chicken Tikka\", \"Mix Sabzi\", \"Daal\", \"BBQ\"]\n",
        "\n",
        "print(\"The first three items in the list are:\\n\")\n",
        "\n",
        "for item in dishes[:3]:\n",
        "    print(item)\n",
        "    \n",
        "print(\"\\nThree items from the middle of the list are:\\n\")\n",
        "\n",
        "for item in dishes[3:6]:\n",
        "    print(item)\n",
        "    \n",
        "print(\"\\nThe last three items in the list are:\\n\")\n",
        "\n",
        "for item in dishes[6:]:\n",
        "    print(item)\n",
        "\n",
        "\n"
      ],
      "execution_count": 7,
      "outputs": [
        {
          "output_type": "stream",
          "text": [
            "The first three items in the list are:\n",
            "\n",
            "Chicken Biryani\n",
            "Plao\n",
            "Daal Chaawal\n",
            "\n",
            "Three items from the middle of the list are:\n",
            "\n",
            "Qorma\n",
            "Chicken Karahi\n",
            "Chicken Tikka\n",
            "\n",
            "The last three items in the list are:\n",
            "\n",
            "Mix Sabzi\n",
            "Daal\n",
            "BBQ\n"
          ],
          "name": "stdout"
        }
      ]
    },
    {
      "cell_type": "code",
      "metadata": {
        "id": "fKbpIj6yQUup",
        "colab_type": "code",
        "colab": {}
      },
      "source": [
        ""
      ],
      "execution_count": 0,
      "outputs": []
    },
    {
      "cell_type": "code",
      "metadata": {
        "id": "dU-Mmf8sQUuz",
        "colab_type": "code",
        "colab": {}
      },
      "source": [
        ""
      ],
      "execution_count": 0,
      "outputs": []
    },
    {
      "cell_type": "code",
      "metadata": {
        "id": "7imy3YxgQUu3",
        "colab_type": "code",
        "colab": {}
      },
      "source": [
        ""
      ],
      "execution_count": 0,
      "outputs": []
    },
    {
      "cell_type": "code",
      "metadata": {
        "id": "yhejta-2QUu9",
        "colab_type": "code",
        "colab": {}
      },
      "source": [
        ""
      ],
      "execution_count": 0,
      "outputs": []
    },
    {
      "cell_type": "code",
      "metadata": {
        "id": "iW5PCi40QUvG",
        "colab_type": "code",
        "colab": {}
      },
      "source": [
        ""
      ],
      "execution_count": 0,
      "outputs": []
    },
    {
      "cell_type": "code",
      "metadata": {
        "id": "_JZ8qAshQUvM",
        "colab_type": "code",
        "colab": {}
      },
      "source": [
        ""
      ],
      "execution_count": 0,
      "outputs": []
    },
    {
      "cell_type": "markdown",
      "metadata": {
        "id": "GEjqRFY3QUvW",
        "colab_type": "text"
      },
      "source": [
        "# Q8:"
      ]
    },
    {
      "cell_type": "markdown",
      "metadata": {
        "id": "lksZHQjrQUvY",
        "colab_type": "text"
      },
      "source": [
        "### Start with your program from your last Question8.\n",
        "###### Make a copy of the list of foods, and call it friend_foods.\n",
        "###### Then, do the following:\n",
        "######    Add a new dish to the original list.\n",
        "######    Add a different dish to the list friend_foodss.\n",
        "######    Prove that you have two separate lists. \n",
        "###### Print the message, My favorite pizzas are: and then use a for loop to print the first list. \n",
        "###### Print the message,\n",
        "###### My friend’s favorite foods are:, and then use a for loop to print the second list.\n",
        "    \n",
        "##### NOTE: Make sure each new dish is stored in the appropriate list."
      ]
    },
    {
      "cell_type": "code",
      "metadata": {
        "id": "Vb36c241QUva",
        "colab_type": "code",
        "colab": {
          "base_uri": "https://localhost:8080/",
          "height": 289
        },
        "outputId": "fe880329-6dad-4931-a27d-37d7bea95144"
      },
      "source": [
        "my_favourite_food = [\"biryani\" , \"whitekarhai\" , \"fish\" , \"macroni\"]\n",
        "my_friends_fav_food = my_favourite_food.copy()\n",
        "\n",
        "my_favourite_food.append('chinies')\n",
        "\n",
        "my_friends_fav_food.append('roll parhata')\n",
        "my_favourite_food.copy()\n",
        "\n",
        "\n",
        "print('\\n my_favourite_food are: \\n') \n",
        "for foods in my_favourite_food:\n",
        "  print(foods)\n",
        "print(\"\\n my_friends_fav_food are :\\n\")\n",
        "for foods in my_friends_fav_food:\n",
        "  print(foods)"
      ],
      "execution_count": 8,
      "outputs": [
        {
          "output_type": "stream",
          "text": [
            "\n",
            " my_favourite_food are: \n",
            "\n",
            "biryani\n",
            "whitekarhai\n",
            "fish\n",
            "macroni\n",
            "chinies\n",
            "\n",
            " my_friends_fav_food are :\n",
            "\n",
            "biryani\n",
            "whitekarhai\n",
            "fish\n",
            "macroni\n",
            "roll parhata\n"
          ],
          "name": "stdout"
        }
      ]
    },
    {
      "cell_type": "code",
      "metadata": {
        "id": "hesoQkH-QUvj",
        "colab_type": "code",
        "colab": {}
      },
      "source": [
        ""
      ],
      "execution_count": 0,
      "outputs": []
    },
    {
      "cell_type": "code",
      "metadata": {
        "id": "vSe8cWLbQUvs",
        "colab_type": "code",
        "colab": {}
      },
      "source": [
        ""
      ],
      "execution_count": 0,
      "outputs": []
    },
    {
      "cell_type": "code",
      "metadata": {
        "id": "BsbqGlYTQUv0",
        "colab_type": "code",
        "colab": {}
      },
      "source": [
        ""
      ],
      "execution_count": 0,
      "outputs": []
    },
    {
      "cell_type": "code",
      "metadata": {
        "id": "vDNl_EkyQUwA",
        "colab_type": "code",
        "colab": {}
      },
      "source": [
        ""
      ],
      "execution_count": 0,
      "outputs": []
    },
    {
      "cell_type": "code",
      "metadata": {
        "id": "P1d7HoFdQUwN",
        "colab_type": "code",
        "colab": {}
      },
      "source": [
        " "
      ],
      "execution_count": 0,
      "outputs": []
    },
    {
      "cell_type": "code",
      "metadata": {
        "id": "GCh332b0QUwS",
        "colab_type": "code",
        "colab": {}
      },
      "source": [
        ""
      ],
      "execution_count": 0,
      "outputs": []
    },
    {
      "cell_type": "markdown",
      "metadata": {
        "id": "gt5SLpShQUwZ",
        "colab_type": "text"
      },
      "source": [
        "# Q9:"
      ]
    },
    {
      "cell_type": "markdown",
      "metadata": {
        "id": "35ae16scQUwf",
        "colab_type": "text"
      },
      "source": [
        "Take a user input from console line.Store it in a variable called Alien_color.\n",
        "\n",
        "If the alien’s color is red, print a statement that the player just earned 5 points for shooting the alien.\n",
        "\n",
        "If the alien’s color isn’t green, print a statement that the player just earned 10 points.\n",
        "\n",
        "If the alien's color isn't red or green , print a statment :, Alien is no more....."
      ]
    },
    {
      "cell_type": "code",
      "metadata": {
        "id": "_i2hzxDEQUwk",
        "colab_type": "code",
        "colab": {
          "base_uri": "https://localhost:8080/",
          "height": 51
        },
        "outputId": "29a8c8f3-35a4-4b26-ecdd-11c40a2427b9"
      },
      "source": [
        "Alien_color=input ('enter your colour: ')\n",
        "if Alien_color=='red':\n",
        "    print('The player just earned 5 points for shooting the alien.')\n",
        "elif Alien_color!='green':\n",
        "    print('The player just earned 10 points')\n",
        "else:\n",
        "    print('Alien is no more.....')"
      ],
      "execution_count": 10,
      "outputs": [
        {
          "output_type": "stream",
          "text": [
            "enter your colour: red\n",
            "The player just earned 5 points for shooting the alien.\n"
          ],
          "name": "stdout"
        }
      ]
    },
    {
      "cell_type": "code",
      "metadata": {
        "id": "RqsJK4p0QUw0",
        "colab_type": "code",
        "colab": {}
      },
      "source": [
        ""
      ],
      "execution_count": 0,
      "outputs": []
    },
    {
      "cell_type": "code",
      "metadata": {
        "id": "zehceXrLQUw6",
        "colab_type": "code",
        "colab": {}
      },
      "source": [
        ""
      ],
      "execution_count": 0,
      "outputs": []
    },
    {
      "cell_type": "code",
      "metadata": {
        "id": "9SPROrPUQUw9",
        "colab_type": "code",
        "colab": {}
      },
      "source": [
        ""
      ],
      "execution_count": 0,
      "outputs": []
    },
    {
      "cell_type": "markdown",
      "metadata": {
        "id": "T6M0XCT2QUw_",
        "colab_type": "text"
      },
      "source": [
        "# Q10:"
      ]
    },
    {
      "cell_type": "markdown",
      "metadata": {
        "id": "ZLjd-OZcQUxB",
        "colab_type": "text"
      },
      "source": [
        "Write an if-elif-else chain that determines a person’s\n",
        "stage of life. Set a value for the variable age, and then:\n",
        "    \n",
        "•\t If the person is less than 2 years old, print a message that the person is a baby.\n",
        "\n",
        "•\t If the person is at least 2 years old but less than 4, print a message that the person is a toddler.\n",
        "\n",
        "•\t If the person is at least 4 years old but less than 13, print a message that the person is a kid.\n",
        "\n",
        "•\t If the person is at least 13 years old but less than 20, print a message that the person is a teenager.\n",
        "\n",
        "•\t If the person is at least 20 years old but less than 65, print a message that the person is an adult.\n",
        "\n",
        "•\t If the person is age 65 or older, print a message that the person is an elder."
      ]
    },
    {
      "cell_type": "code",
      "metadata": {
        "id": "v92kF0LmQUxC",
        "colab_type": "code",
        "colab": {
          "base_uri": "https://localhost:8080/",
          "height": 51
        },
        "outputId": "e6337982-9f39-44a3-fe44-def4041aa66f"
      },
      "source": [
        "age = int(input('enter your age: '))\n",
        "if age <2:\n",
        "  print('the person is a baby')\n",
        "elif age <=2 or age <4:\n",
        "  print('the person is a toddler')\n",
        "elif age <=4 or age <13:\n",
        "  print('the person is a kid')\n",
        "elif age <=13 or age <20:\n",
        "  print('the person is a teenager')\n",
        "elif age <=20 or age <65:\n",
        "  print('the person is an adult')\n",
        "else:\n",
        "  print('the person is an elder')\n"
      ],
      "execution_count": 11,
      "outputs": [
        {
          "output_type": "stream",
          "text": [
            "enter your age: 80\n",
            "the person is an elder\n"
          ],
          "name": "stdout"
        }
      ]
    },
    {
      "cell_type": "code",
      "metadata": {
        "id": "QRTUslx9QUxH",
        "colab_type": "code",
        "colab": {}
      },
      "source": [
        ""
      ],
      "execution_count": 0,
      "outputs": []
    },
    {
      "cell_type": "code",
      "metadata": {
        "id": "WQvknNeaQUxJ",
        "colab_type": "code",
        "colab": {}
      },
      "source": [
        ""
      ],
      "execution_count": 0,
      "outputs": []
    },
    {
      "cell_type": "code",
      "metadata": {
        "id": "dd-UzLnfQUxN",
        "colab_type": "code",
        "colab": {}
      },
      "source": [
        ""
      ],
      "execution_count": 0,
      "outputs": []
    },
    {
      "cell_type": "code",
      "metadata": {
        "id": "ZNqYkCfWQUxS",
        "colab_type": "code",
        "colab": {}
      },
      "source": [
        ""
      ],
      "execution_count": 0,
      "outputs": []
    },
    {
      "cell_type": "code",
      "metadata": {
        "id": "uoiLE0sXQUxV",
        "colab_type": "code",
        "colab": {}
      },
      "source": [
        ""
      ],
      "execution_count": 0,
      "outputs": []
    },
    {
      "cell_type": "markdown",
      "metadata": {
        "id": "lyttOLO7QUxX",
        "colab_type": "text"
      },
      "source": [
        "# Q11:"
      ]
    },
    {
      "cell_type": "markdown",
      "metadata": {
        "id": "3C-vckTXQUxY",
        "colab_type": "text"
      },
      "source": [
        "Do the following to create a program that simulates how websites ensure that everyone has a unique username.\n",
        "\n",
        "•\t Make a list of five or more usernames called current_users.\n",
        "\n",
        "•\t Make another list of five usernames called new_users. \n",
        "Make sure one or two of the new usernames are also in the current_users list.\n",
        "\n",
        "•\t Loop through the new_users list to see if each new username has already been used. \n",
        "If it has, print a message that the person will need to enter a new username. \n",
        "If a username has not been used, print a message saying that the username is available.\n",
        "\n",
        "•\t Make sure your comparison is case insensitive. If 'John' has been used, 'JOHN' should not be accepted."
      ]
    },
    {
      "cell_type": "code",
      "metadata": {
        "id": "znN5LO2RQUxZ",
        "colab_type": "code",
        "colab": {}
      },
      "source": [
        "current_user = [\"SAMIYA\" , \"HABIBA\" , \"WAFA\" , \"FATIMA\" , \"ALIYA\"]\n",
        "new_users = [\"HABIBA\" , \"ADEENA\" , \"BISMA\" , \"SAMIYA\" , \"ZAIN\"]"
      ],
      "execution_count": 0,
      "outputs": []
    },
    {
      "cell_type": "code",
      "metadata": {
        "id": "lEVA5GdmQUxd",
        "colab_type": "code",
        "colab": {
          "base_uri": "https://localhost:8080/",
          "height": 136
        },
        "outputId": "4fbde26b-fbcf-402d-8918-aa11b23a38db"
      },
      "source": [
        "for new_users in new_users:\n",
        "    names = new_users.upper()\n",
        "    if names in current_user:\n",
        "        print(f\"\\{names} , This name is already taken\\nplease change your name....\")\n",
        "    else:\n",
        "        print(f\"\\{names} , Your name is added to database...\")"
      ],
      "execution_count": 17,
      "outputs": [
        {
          "output_type": "stream",
          "text": [
            "\\HABIBA , This name is already taken\n",
            "please change your name....\n",
            "\\ADEENA , Your name is added to database...\n",
            "\\BISMA , Your name is added to database...\n",
            "\\SAMIYA , This name is already taken\n",
            "please change your name....\n",
            "\\ZAIN , Your name is added to database...\n"
          ],
          "name": "stdout"
        }
      ]
    },
    {
      "cell_type": "code",
      "metadata": {
        "id": "SiK1outrQUxh",
        "colab_type": "code",
        "colab": {}
      },
      "source": [
        ""
      ],
      "execution_count": 0,
      "outputs": []
    },
    {
      "cell_type": "code",
      "metadata": {
        "id": "zyp_URoZQUxw",
        "colab_type": "code",
        "colab": {}
      },
      "source": [
        ""
      ],
      "execution_count": 0,
      "outputs": []
    },
    {
      "cell_type": "markdown",
      "metadata": {
        "id": "DvBMS_ZDQUx5",
        "colab_type": "text"
      },
      "source": [
        "# Q12:"
      ]
    },
    {
      "cell_type": "markdown",
      "metadata": {
        "id": "K9KXRZ1CQUx7",
        "colab_type": "text"
      },
      "source": [
        "Use a dictionary to store information about a person you know.\n",
        "Store their first name, last name, age, and the city in which they live. \n",
        "You should have keys such as first_name, last_name, age, and city. \n",
        "Print each piece of information stored in your dictionary"
      ]
    },
    {
      "cell_type": "code",
      "metadata": {
        "id": "Ea1kdsaeQUx8",
        "colab_type": "code",
        "colab": {
          "base_uri": "https://localhost:8080/",
          "height": 85
        },
        "outputId": "4153a63f-1210-428a-e66f-e2150a3e068c"
      },
      "source": [
        "Person = {\"First_name\": \"Bisma\" , \"Last_name\": \"Siddiqui\" , \"Age\": 23 , \"City\": \"Karachi\"}\n",
        "print(\"First_name: \" + Person[\"First_name\"])\n",
        "print(\"Last_name:\" + Person[\"Last_name\"])\n",
        "print(\"Age:\" + str(Person[\"Age\"]))\n",
        "print(\"City:\" + Person[\"City\"])"
      ],
      "execution_count": 18,
      "outputs": [
        {
          "output_type": "stream",
          "text": [
            "First_name: Bisma\n",
            "Last_name:Siddiqui\n",
            "Age:23\n",
            "City:Karachi\n"
          ],
          "name": "stdout"
        }
      ]
    },
    {
      "cell_type": "code",
      "metadata": {
        "id": "D4gV4vqFQUyO",
        "colab_type": "code",
        "colab": {}
      },
      "source": [
        ""
      ],
      "execution_count": 0,
      "outputs": []
    },
    {
      "cell_type": "code",
      "metadata": {
        "id": "8yzD00HeQUyT",
        "colab_type": "code",
        "colab": {}
      },
      "source": [
        ""
      ],
      "execution_count": 0,
      "outputs": []
    },
    {
      "cell_type": "code",
      "metadata": {
        "id": "cx6wtOP8QUyY",
        "colab_type": "code",
        "colab": {}
      },
      "source": [
        ""
      ],
      "execution_count": 0,
      "outputs": []
    },
    {
      "cell_type": "markdown",
      "metadata": {
        "id": "gr-414U8QUyc",
        "colab_type": "text"
      },
      "source": [
        "# Q13:"
      ]
    },
    {
      "cell_type": "markdown",
      "metadata": {
        "id": "kHnpOPduQUyd",
        "colab_type": "text"
      },
      "source": [
        "Starts with your last question 12 , loop through the dictionary’s keys and values.\n",
        "When you’re sure that your loop works, add five more Python terms to your\n",
        "dictionary . When you run your program again, these new words and meanings\n",
        "should automatically be included in the output."
      ]
    },
    {
      "cell_type": "code",
      "metadata": {
        "id": "euOSb5wLQUye",
        "colab_type": "code",
        "colab": {
          "base_uri": "https://localhost:8080/",
          "height": 102
        },
        "outputId": "2ce298be-ad4c-441f-9b6f-183572641f87"
      },
      "source": [
        "Person = {\"First_name\": \"Bisma\" , \"Last_name\": \"Siddiqui\" , \"Age\": \"23\" , \"City\": \"Karachi\" , \"Contact\": \"090078601\"}\n",
        "\n",
        "for key, value in Person.items():\n",
        "    print(key + \": \" + value)"
      ],
      "execution_count": 19,
      "outputs": [
        {
          "output_type": "stream",
          "text": [
            "First_name: Bisma\n",
            "Last_name: Siddiqui\n",
            "Age: 23\n",
            "City: Karachi\n",
            "Contact: 090078601\n"
          ],
          "name": "stdout"
        }
      ]
    },
    {
      "cell_type": "code",
      "metadata": {
        "id": "pR4evppBQUyj",
        "colab_type": "code",
        "colab": {
          "base_uri": "https://localhost:8080/",
          "height": 187
        },
        "outputId": "67acbfac-6ed3-44bd-f303-4b4b3e65515f"
      },
      "source": [
        "Person[\"print\"] = \"print the statement\"\n",
        "Person[\"pass\"] = \"to pass\"\n",
        "Person[\"if\"] = \"condition\"\n",
        "Person[\"break\"] = \"to stop a loop\"\n",
        "Person[\"else\"] = \"other condition\"\n",
        "\n",
        "for key, value in Person.items():\n",
        "    print(key + \": \" + value)"
      ],
      "execution_count": 20,
      "outputs": [
        {
          "output_type": "stream",
          "text": [
            "First_name: Bisma\n",
            "Last_name: Siddiqui\n",
            "Age: 23\n",
            "City: Karachi\n",
            "Contact: 090078601\n",
            "print: print the statement\n",
            "pass: to pass\n",
            "if: condition\n",
            "break: to stop a loop\n",
            "else: other condition\n"
          ],
          "name": "stdout"
        }
      ]
    },
    {
      "cell_type": "code",
      "metadata": {
        "id": "Y6VcdhXgQUyn",
        "colab_type": "code",
        "colab": {}
      },
      "source": [
        ""
      ],
      "execution_count": 0,
      "outputs": []
    },
    {
      "cell_type": "code",
      "metadata": {
        "id": "72oRMQQ5QUyr",
        "colab_type": "code",
        "colab": {}
      },
      "source": [
        ""
      ],
      "execution_count": 0,
      "outputs": []
    },
    {
      "cell_type": "code",
      "metadata": {
        "id": "CSl-aqfPQUyw",
        "colab_type": "code",
        "colab": {}
      },
      "source": [
        ""
      ],
      "execution_count": 0,
      "outputs": []
    },
    {
      "cell_type": "markdown",
      "metadata": {
        "id": "-fo3vuK6QUzC",
        "colab_type": "text"
      },
      "source": [
        "# Q14:"
      ]
    },
    {
      "cell_type": "markdown",
      "metadata": {
        "id": "X5Y10AfxQUzF",
        "colab_type": "text"
      },
      "source": [
        "Make a dictionary containing three major rivers and the country\n",
        "each river runs through. One key-value pair might be 'nile': 'egypt'.\n",
        "    \n",
        "    \n",
        "•\t Use a loop to print a sentence about each river, such as The Nile runs\n",
        "through Egypt.\n",
        "\n",
        "NOTE: use upper case through keys and values."
      ]
    },
    {
      "cell_type": "code",
      "metadata": {
        "id": "35GCd-ZcQUzG",
        "colab_type": "code",
        "colab": {
          "base_uri": "https://localhost:8080/",
          "height": 68
        },
        "outputId": "c1669a60-2d98-42e0-c7bf-f70cc11220b4"
      },
      "source": [
        "rivers = {\"nile\": \"egypt\", \"chaophraya\": \"thiland\", \"tigris\": \"iraq\"}\n",
        "\n",
        "for river, country in rivers.items():\n",
        "    print(\"The \" + river.upper() + \" runs through \" + country.upper() + \".\")"
      ],
      "execution_count": 21,
      "outputs": [
        {
          "output_type": "stream",
          "text": [
            "The NILE runs through EGYPT.\n",
            "The CHAOPHRAYA runs through THILAND.\n",
            "The TIGRIS runs through IRAQ.\n"
          ],
          "name": "stdout"
        }
      ]
    },
    {
      "cell_type": "code",
      "metadata": {
        "id": "p-LUff83QUzK",
        "colab_type": "code",
        "colab": {}
      },
      "source": [
        ""
      ],
      "execution_count": 0,
      "outputs": []
    },
    {
      "cell_type": "code",
      "metadata": {
        "id": "RwJsVGi4QUzO",
        "colab_type": "code",
        "colab": {}
      },
      "source": [
        ""
      ],
      "execution_count": 0,
      "outputs": []
    },
    {
      "cell_type": "markdown",
      "metadata": {
        "id": "GSXFVxSQQUzR",
        "colab_type": "text"
      },
      "source": [
        "# Q15:"
      ]
    },
    {
      "cell_type": "markdown",
      "metadata": {
        "id": "khg7xaaaQUzT",
        "colab_type": "text"
      },
      "source": [
        "Make several dictionaries, where the name of each dictionary is the\n",
        "name of a pet. In each dictionary, include the kind of animal and the owner’s\n",
        "name. Store these dictionaries in a list called pets. Next, loop through your list\n",
        "and as you do print everything you know about each pet."
      ]
    },
    {
      "cell_type": "code",
      "metadata": {
        "id": "SkAVYmegQUzT",
        "colab_type": "code",
        "colab": {
          "base_uri": "https://localhost:8080/",
          "height": 119
        },
        "outputId": "4fd44b08-446b-4f46-aab2-3a0595d1249a"
      },
      "source": [
        "dict_1 = {'Pet 1' : 'cat' , 'Owner' : 'aniya','kind' : 'mammal'}\n",
        "dict_2 = {'Pet 2':'dog'  ,'Owner' : 'Ali' ,'kind' : 'mammal'}\n",
        "pets = [dict_1,dict_2]\n",
        "for pet in pets :\n",
        "    for keys,values in pet.items() :\n",
        "        print(f\"{keys} : {values}\")"
      ],
      "execution_count": 22,
      "outputs": [
        {
          "output_type": "stream",
          "text": [
            "Pet 1 : cat\n",
            "Owner : aniya\n",
            "kind : mammal\n",
            "Pet 2 : dog\n",
            "Owner : Ali\n",
            "kind : mammal\n"
          ],
          "name": "stdout"
        }
      ]
    },
    {
      "cell_type": "code",
      "metadata": {
        "id": "Of08uuHVT08F",
        "colab_type": "code",
        "colab": {}
      },
      "source": [
        ""
      ],
      "execution_count": 0,
      "outputs": []
    }
  ]
}